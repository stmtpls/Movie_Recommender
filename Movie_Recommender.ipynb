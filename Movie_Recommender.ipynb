{
 "cells": [
  {
   "cell_type": "markdown",
   "metadata": {},
   "source": [
    "# Movie Recommender using MapReduce"
   ]
  },
  {
   "cell_type": "code",
   "execution_count": 1,
   "metadata": {},
   "outputs": [
    {
     "name": "stdout",
     "output_type": "stream",
     "text": [
      "Enter userId: 7\n",
      "Enter movieId: 1\n",
      "Enter rating: 3\n",
      "-----------\n",
      "Since you watched Toy Story (1995), check also these relevant movies:\n",
      "Toy Story 2 (1999)\n",
      "Antz (1998)\n",
      "Emperor's New Groove, The (2000)\n",
      "Adventures of Rocky and Bullwinkle, The (2000)\n",
      "Space Jam (1996)\n"
     ]
    }
   ],
   "source": [
    "import re\n",
    "\n",
    "from pyspark.sql.types import StringType\n",
    "from pyspark import SQLContext\n",
    "sqlContext = SQLContext(sc)\n",
    "\n",
    "given_userid  = int(input('Enter userId: '))\n",
    "given_movieid = int(input('Enter movieId: '))\n",
    "given_rating  = float(input('Enter rating: '))\n",
    "\n",
    "movies = sqlContext.read.load('movies.csv', format='com.databricks.spark.csv', header='true', inferSchema='true')\n",
    "ratings = sqlContext.read.load('ratings.csv', format='com.databricks.spark.csv', header='true', inferSchema='true')\n",
    "\n",
    "given_genres = movies[movies.movieId.isin(given_movieid)].collect()[0][2].split('|')\n",
    "\n",
    "# function identifying the release year of the movie based on the title\n",
    "def release_year(title):\n",
    "    a = re.split(r'[()-]', title)\n",
    "    for i in range(len(a)):\n",
    "        if a[i].isdigit() is True:\n",
    "            b = int(a[i])\n",
    "    return b\n",
    "\n",
    "# release year of the given movie\n",
    "title = movies[movies.movieId.isin(given_movieid)].collect()[0][1]\n",
    "given_release_year = release_year(title)\n",
    "\n",
    "# relevant movie year search range\n",
    "year_range = list(range(given_release_year-4, given_release_year+6))\n",
    "relevant_years = [str(x) for x in year_range]\n",
    "\n",
    "y_movies = movies.where(movies.title.contains(relevant_years[0]) | \\\n",
    "                        movies.title.contains(relevant_years[1]) | \\\n",
    "                        movies.title.contains(relevant_years[2]) | \\\n",
    "                        movies.title.contains(relevant_years[3]) | \\\n",
    "                        movies.title.contains(relevant_years[4]) | \\\n",
    "                        movies.title.contains(relevant_years[5]) | \\\n",
    "                        movies.title.contains(relevant_years[6]) | \\\n",
    "                        movies.title.contains(relevant_years[7]) | \\\n",
    "                        movies.title.contains(relevant_years[8]) | \\\n",
    "                        movies.title.contains(relevant_years[9]) )\n",
    "\n",
    "seen_movies = ratings.filter(ratings.userId == given_userid).select('movieId')\n",
    "yu_movies = y_movies.join(seen_movies, [\"movieId\"], \"leftanti\")\n",
    "\n",
    "movies_n_ratings = ratings.join(movies, ratings.movieId == movies.movieId)  \n",
    "m_n_r = movies_n_ratings.drop('userId', 'movieId', 'timestamp')\n",
    "m_n_r = m_n_r.selectExpr('rating as rating', 'title as title', 'genres as genre')\n",
    "\n",
    "list_of_movies = m_n_r.join(yu_movies, [\"title\"], \"inner\").drop('movieId','genres')\n",
    "\n",
    "# Function defining relevance between a movie's genres and the given movie's genres\n",
    "def genre_relevance(genre):\n",
    "    common_g = set(given_genres)&set(genre)\n",
    "    different_g = set(given_genres)^set(genre)\n",
    "    return len(common_g)/len(given_genres) - len(different_g)/(len(given_genres))\n",
    "\n",
    "movies_rdd = list_of_movies.rdd.map(lambda x:((x[0],genre_relevance(x[2].split('|'))),(x[1])))\n",
    "movies_rdd2 = movies_rdd.reduceByKey(lambda x,y:x+y)\n",
    "flatMappedRDD = movies_rdd2.map(lambda x: (x[0][0], x[0][1], x[1]))\n",
    "result_list = flatMappedRDD.sortBy(lambda a: ( -a[1], -a[2]))\n",
    "top5 = result_list.map(lambda x: x[0])\n",
    "\n",
    "print('-----------')\n",
    "print('Since you watched ' + title + ', check also these relevant movies:')\n",
    "print(*top5.take(5), sep='\\n')"
   ]
  },
  {
   "cell_type": "code",
   "execution_count": null,
   "metadata": {},
   "outputs": [],
   "source": []
  }
 ],
 "metadata": {
  "kernelspec": {
   "display_name": "Python 3",
   "language": "python",
   "name": "python3"
  },
  "language_info": {
   "codemirror_mode": {
    "name": "ipython",
    "version": 3
   },
   "file_extension": ".py",
   "mimetype": "text/x-python",
   "name": "python",
   "nbconvert_exporter": "python",
   "pygments_lexer": "ipython3",
   "version": "3.6.5"
  }
 },
 "nbformat": 4,
 "nbformat_minor": 2
}
