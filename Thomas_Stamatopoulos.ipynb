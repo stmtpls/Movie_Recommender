{
 "cells": [
  {
   "cell_type": "markdown",
   "metadata": {},
   "source": [
    "# Movie Recommender using MapReduce"
   ]
  },
  {
   "cell_type": "markdown",
   "metadata": {},
   "source": [
    "## Summary"
   ]
  },
  {
   "cell_type": "markdown",
   "metadata": {},
   "source": [
    "The program uses as input parsed data from online platforms, in the form of csv files and by providing a userId and movieId and returns a top 5 movie selection using the following criteria:\n",
    "1. Gengres' relativity (movies with the highest matching in relation to the given movie appear on top)\n",
    "2. Populatity and ratings (aggregate of all the ratings by users that have evaluated each movie)\n",
    "3. Release year (presenting movies close to the release year of the given movie - in the same decade)\n",
    "\n",
    "Below are all the steps of the process analysed and commented."
   ]
  },
  {
   "cell_type": "markdown",
   "metadata": {},
   "source": [
    "## Process"
   ]
  },
  {
   "cell_type": "markdown",
   "metadata": {},
   "source": [
    "As a first step I import all the necessary libraries that will be used."
   ]
  },
  {
   "cell_type": "code",
   "execution_count": 2,
   "metadata": {},
   "outputs": [],
   "source": [
    "import re\n",
    "\n",
    "from pyspark.sql.types import StringType\n",
    "from pyspark import SQLContext\n",
    "sqlContext = SQLContext(sc)\n",
    "# from pyspark.sql import functions as f\n",
    "# import pyspark.sql.functions \n"
   ]
  },
  {
   "cell_type": "markdown",
   "metadata": {},
   "source": [
    "I enter a test case for presentation purposes. The test movie is \"Toy Story\", an Adventure, Animation, Children, Comedy, Fantasy movie released in 1995."
   ]
  },
  {
   "cell_type": "code",
   "execution_count": 3,
   "metadata": {},
   "outputs": [],
   "source": [
    "given_userid  = 7\n",
    "given_movieid = 1\n",
    "given_rating  = 3.0"
   ]
  },
  {
   "cell_type": "markdown",
   "metadata": {},
   "source": [
    "First I import the data (list of movies and list of ratings) as pyspark dataframes, in order to work on them and clear up the initial data."
   ]
  },
  {
   "cell_type": "code",
   "execution_count": 4,
   "metadata": {
    "scrolled": false
   },
   "outputs": [
    {
     "name": "stdout",
     "output_type": "stream",
     "text": [
      "+-------+--------------------+--------------------+\n",
      "|movieId|               title|              genres|\n",
      "+-------+--------------------+--------------------+\n",
      "|      1|    Toy Story (1995)|Adventure|Animati...|\n",
      "|      2|      Jumanji (1995)|Adventure|Childre...|\n",
      "|      3|Grumpier Old Men ...|      Comedy|Romance|\n",
      "|      4|Waiting to Exhale...|Comedy|Drama|Romance|\n",
      "|      5|Father of the Bri...|              Comedy|\n",
      "+-------+--------------------+--------------------+\n",
      "only showing top 5 rows\n",
      "\n",
      "+------+-------+------+----------+\n",
      "|userId|movieId|rating| timestamp|\n",
      "+------+-------+------+----------+\n",
      "|     1|     31|   2.5|1260759144|\n",
      "|     1|   1029|   3.0|1260759179|\n",
      "|     1|   1061|   3.0|1260759182|\n",
      "|     1|   1129|   2.0|1260759185|\n",
      "|     1|   1172|   4.0|1260759205|\n",
      "+------+-------+------+----------+\n",
      "only showing top 5 rows\n",
      "\n"
     ]
    }
   ],
   "source": [
    "movies = sqlContext.read.load('movies.csv', format='com.databricks.spark.csv', header='true', inferSchema='true')\n",
    "ratings = sqlContext.read.load('ratings.csv', format='com.databricks.spark.csv', header='true', inferSchema='true')\n",
    "\n",
    "movies.show(5)\n",
    "ratings.show(5)"
   ]
  },
  {
   "cell_type": "markdown",
   "metadata": {},
   "source": [
    "Based on the movieId of the test movie, I find its genres."
   ]
  },
  {
   "cell_type": "code",
   "execution_count": 5,
   "metadata": {
    "scrolled": false
   },
   "outputs": [
    {
     "data": {
      "text/plain": [
       "['Adventure', 'Animation', 'Children', 'Comedy', 'Fantasy']"
      ]
     },
     "execution_count": 5,
     "metadata": {},
     "output_type": "execute_result"
    }
   ],
   "source": [
    "given_genres = movies[movies.movieId.isin(given_movieid)].collect()[0][2].split('|')\n",
    "given_genres"
   ]
  },
  {
   "cell_type": "markdown",
   "metadata": {},
   "source": [
    "After that, based on the title of the movie, I extract the release year, which I use to create a decade ranging from -5 to +5. I do this taking into account that the movie industry is rapidly changing and movies need to belong to the same era to be relevant to each other."
   ]
  },
  {
   "cell_type": "code",
   "execution_count": 6,
   "metadata": {
    "scrolled": true
   },
   "outputs": [],
   "source": [
    "# function identifying the release year of the movie based on the title\n",
    "def release_year(title):\n",
    "    a = re.split(r'[()-]', title)\n",
    "    for i in range(len(a)):\n",
    "        if a[i].isdigit() is True:\n",
    "            b = int(a[i])\n",
    "    return b\n",
    "\n",
    "# release year of the given movie\n",
    "title = movies[movies.movieId.isin(given_movieid)].collect()[0][1]\n",
    "given_release_year = release_year(title)\n",
    "\n",
    "# relevant movie year search range\n",
    "year_range = list(range(given_release_year-4, given_release_year+6))\n",
    "relevant_years = [str(x) for x in year_range]"
   ]
  },
  {
   "cell_type": "markdown",
   "metadata": {},
   "source": [
    "I use the relevant year range and filter all the movies that were not released within this period, taking into account that all relevant movies shall be of the same period, irrespective of their genres and rating."
   ]
  },
  {
   "cell_type": "code",
   "execution_count": 7,
   "metadata": {
    "scrolled": true
   },
   "outputs": [
    {
     "name": "stdout",
     "output_type": "stream",
     "text": [
      "+-------+-----------------+--------------------+------------------+\n",
      "|summary|          movieId|               title|            genres|\n",
      "+-------+-----------------+--------------------+------------------+\n",
      "|  count|             2341|                2341|              2341|\n",
      "|   mean| 5804.74284493806|                null|              null|\n",
      "| stddev|16663.34228526481|                null|              null|\n",
      "|    min|                1|\"\"\"Great Performa...|(no genres listed)|\n",
      "|    max|           145307|     eXistenZ (1999)|           Western|\n",
      "+-------+-----------------+--------------------+------------------+\n",
      "\n"
     ]
    }
   ],
   "source": [
    "y_movies = movies.where(movies.title.contains(relevant_years[0]) | \\\n",
    "                        movies.title.contains(relevant_years[1]) | \\\n",
    "                        movies.title.contains(relevant_years[2]) | \\\n",
    "                        movies.title.contains(relevant_years[3]) | \\\n",
    "                        movies.title.contains(relevant_years[4]) | \\\n",
    "                        movies.title.contains(relevant_years[5]) | \\\n",
    "                        movies.title.contains(relevant_years[6]) | \\\n",
    "                        movies.title.contains(relevant_years[7]) | \\\n",
    "                        movies.title.contains(relevant_years[8]) | \\\n",
    "                        movies.title.contains(relevant_years[9]) )\n",
    "\n",
    "y_movies.describe().show()"
   ]
  },
  {
   "cell_type": "markdown",
   "metadata": {},
   "source": [
    "After that, based on the users' ratings, I identify the movies that the user has already seen, since I wont be reccomending a movie that the user has already seen. It needs to be noted that in case the given test movie was not selected correctly (aka there is no rating created by the given user for this movie) the results will be including the given movie."
   ]
  },
  {
   "cell_type": "code",
   "execution_count": 8,
   "metadata": {
    "scrolled": true
   },
   "outputs": [
    {
     "name": "stdout",
     "output_type": "stream",
     "text": [
      "+-------+-----------------+\n",
      "|summary|          movieId|\n",
      "+-------+-----------------+\n",
      "|  count|               88|\n",
      "|   mean|775.0568181818181|\n",
      "| stddev|461.0633974896535|\n",
      "|    min|                1|\n",
      "|    max|             1408|\n",
      "+-------+-----------------+\n",
      "\n"
     ]
    }
   ],
   "source": [
    "seen_movies = ratings.filter(ratings.userId == given_userid).select('movieId')\n",
    "seen_movies.describe().show()"
   ]
  },
  {
   "cell_type": "markdown",
   "metadata": {},
   "source": [
    "Then I complete a left anti-join, filtering out the movies that the user has already seen from the list of potential movie suggestions."
   ]
  },
  {
   "cell_type": "code",
   "execution_count": 9,
   "metadata": {
    "scrolled": false
   },
   "outputs": [
    {
     "name": "stdout",
     "output_type": "stream",
     "text": [
      "+-------+------------------+--------------------+------------------+\n",
      "|summary|           movieId|               title|            genres|\n",
      "+-------+------------------+--------------------+------------------+\n",
      "|  count|              2293|                2293|              2293|\n",
      "|   mean| 5916.094635848233|                null|              null|\n",
      "| stddev|16818.861513469856|                null|              null|\n",
      "|    min|                 2|\"\"\"Great Performa...|(no genres listed)|\n",
      "|    max|            145307|     eXistenZ (1999)|           Western|\n",
      "+-------+------------------+--------------------+------------------+\n",
      "\n"
     ]
    }
   ],
   "source": [
    "yu_movies = y_movies.join(seen_movies, [\"movieId\"], \"leftanti\")\n",
    "yu_movies.describe().show()"
   ]
  },
  {
   "cell_type": "markdown",
   "metadata": {},
   "source": [
    "Combine the two tables keeping only the columns that will be used in the next steps, I create a table with the rating, title and genres of each movie. Each line of this table is a different rating for a movie, made by a user."
   ]
  },
  {
   "cell_type": "code",
   "execution_count": 10,
   "metadata": {
    "scrolled": false
   },
   "outputs": [
    {
     "name": "stdout",
     "output_type": "stream",
     "text": [
      "+-------+------------------+--------------------+------------------+\n",
      "|summary|            rating|               title|             genre|\n",
      "+-------+------------------+--------------------+------------------+\n",
      "|  count|            100004|              100004|            100004|\n",
      "|   mean| 3.543608255669773|                null|              null|\n",
      "| stddev|1.0580641091070326|                null|              null|\n",
      "|    min|               0.5|\"\"\"Great Performa...|(no genres listed)|\n",
      "|    max|               5.0| İtirazım Var (2014)|           Western|\n",
      "+-------+------------------+--------------------+------------------+\n",
      "\n"
     ]
    }
   ],
   "source": [
    "movies_n_ratings = ratings.join(movies, ratings.movieId == movies.movieId)  \n",
    "m_n_r = movies_n_ratings.drop('userId', 'movieId', 'timestamp')\n",
    "m_n_r = m_n_r.selectExpr('rating as rating', 'title as title', 'genres as genre')\n",
    "m_n_r.describe().show()"
   ]
  },
  {
   "cell_type": "markdown",
   "metadata": {},
   "source": [
    "The final list of movies' ratings is filtered, removing the movies that the user has already seen and movies that are not included in the 10 year period."
   ]
  },
  {
   "cell_type": "code",
   "execution_count": 11,
   "metadata": {
    "scrolled": false
   },
   "outputs": [
    {
     "name": "stdout",
     "output_type": "stream",
     "text": [
      "+-------+--------------------+------------------+------------------+\n",
      "|summary|               title|            rating|             genre|\n",
      "+-------+--------------------+------------------+------------------+\n",
      "|  count|               37818|             37818|             37818|\n",
      "|   mean|                null|3.4449336294886033|              null|\n",
      "| stddev|                null|1.0852797062079558|              null|\n",
      "|    min|\"\"\"Great Performa...|               0.5|(no genres listed)|\n",
      "|    max|     eXistenZ (1999)|               5.0|           Western|\n",
      "+-------+--------------------+------------------+------------------+\n",
      "\n"
     ]
    }
   ],
   "source": [
    "list_of_movies = m_n_r.join(yu_movies, [\"title\"], \"inner\").drop('movieId','genres')\n",
    "list_of_movies.describe().show()"
   ]
  },
  {
   "cell_type": "markdown",
   "metadata": {},
   "source": [
    "I define a function calculating the genre relevance for each movie. Comparing the genres of each movie to the given one, the function gives a unique number for each set, adding value for every common genre and removing for every different one."
   ]
  },
  {
   "cell_type": "code",
   "execution_count": 12,
   "metadata": {},
   "outputs": [],
   "source": [
    "# Function defining relevance between a movie's genres and the given movie's genres\n",
    "def genre_relevance(genre):\n",
    "    common_g = set(given_genres)&set(genre)\n",
    "    different_g = set(given_genres)^set(genre)\n",
    "    return len(common_g)/len(given_genres) - len(different_g)/(len(given_genres))"
   ]
  },
  {
   "cell_type": "code",
   "execution_count": 13,
   "metadata": {},
   "outputs": [
    {
     "data": {
      "text/plain": [
       "[Row(title='Sleepers (1996)', rating=3.0, genre='Thriller'),\n",
       " Row(title=\"Dracula (Bram Stoker's Dracula) (1992)\", rating=3.5, genre='Fantasy|Horror|Romance|Thriller'),\n",
       " Row(title='Cape Fear (1991)', rating=2.0, genre='Thriller')]"
      ]
     },
     "execution_count": 13,
     "metadata": {},
     "output_type": "execute_result"
    }
   ],
   "source": [
    "list_of_movies.take(3)"
   ]
  },
  {
   "cell_type": "markdown",
   "metadata": {},
   "source": [
    "Then I turn the list of movies into a RDD, calculating the genre relevance of each movie."
   ]
  },
  {
   "cell_type": "code",
   "execution_count": 14,
   "metadata": {
    "scrolled": true
   },
   "outputs": [
    {
     "data": {
      "text/plain": [
       "[(('Sleepers (1996)', -1.2), 3.0),\n",
       " ((\"Dracula (Bram Stoker's Dracula) (1992)\", -1.2), 3.5),\n",
       " (('Cape Fear (1991)', -1.2), 2.0)]"
      ]
     },
     "execution_count": 14,
     "metadata": {},
     "output_type": "execute_result"
    }
   ],
   "source": [
    "movies_rdd = list_of_movies.rdd.map(lambda x:((x[0],genre_relevance(x[2].split('|'))),(x[1])))\n",
    "movies_rdd.take(3)"
   ]
  },
  {
   "cell_type": "markdown",
   "metadata": {},
   "source": [
    "I aggregate all the ratings for each movie together. The aggregate rating has two functions, as it takes into account both popularity as well as rating, suggesting that a popular movie would be a good suggestion despite having a relevant low score. "
   ]
  },
  {
   "cell_type": "code",
   "execution_count": 15,
   "metadata": {},
   "outputs": [
    {
     "data": {
      "text/plain": [
       "[(('Sleepers (1996)', -1.2), 117.0),\n",
       " ((\"Dracula (Bram Stoker's Dracula) (1992)\", -1.2), 171.5)]"
      ]
     },
     "execution_count": 15,
     "metadata": {},
     "output_type": "execute_result"
    }
   ],
   "source": [
    "movies_rdd2 = movies_rdd.reduceByKey(lambda x,y:x+y)\n",
    "movies_rdd2.take(2)"
   ]
  },
  {
   "cell_type": "markdown",
   "metadata": {},
   "source": [
    "I flatten the list of movies into tuples of Title - Genres Relevance - Aggregate score in order to have them sorted."
   ]
  },
  {
   "cell_type": "code",
   "execution_count": 16,
   "metadata": {},
   "outputs": [
    {
     "data": {
      "text/plain": [
       "[('Sleepers (1996)', -1.2, 117.0)]"
      ]
     },
     "execution_count": 16,
     "metadata": {},
     "output_type": "execute_result"
    }
   ],
   "source": [
    "flatMappedRDD = movies_rdd2.map(lambda x: (x[0][0], x[0][1], x[1]))\n",
    "(flatMappedRDD.take(1))"
   ]
  },
  {
   "cell_type": "markdown",
   "metadata": {},
   "source": [
    "The sorting of the movies is completed in order of genres relevance and aggregate score."
   ]
  },
  {
   "cell_type": "code",
   "execution_count": 17,
   "metadata": {},
   "outputs": [
    {
     "data": {
      "text/plain": [
       "[('Toy Story 2 (1999)', 1.0, 480.5),\n",
       " ('Antz (1998)', 1.0, 173.5),\n",
       " (\"Emperor's New Groove, The (2000)\", 1.0, 112.0),\n",
       " ('Adventures of Rocky and Bullwinkle, The (2000)', 1.0, 13.0),\n",
       " ('Space Jam (1996)', 0.8, 134.0)]"
      ]
     },
     "execution_count": 17,
     "metadata": {},
     "output_type": "execute_result"
    }
   ],
   "source": [
    "result_list = flatMappedRDD.sortBy(lambda a: ( -a[1], -a[2]))\n",
    "result_list.take(5)"
   ]
  },
  {
   "cell_type": "markdown",
   "metadata": {},
   "source": [
    "And finally the top 5 movies are presented in order of relevance."
   ]
  },
  {
   "cell_type": "code",
   "execution_count": 18,
   "metadata": {},
   "outputs": [
    {
     "name": "stdout",
     "output_type": "stream",
     "text": [
      "Toy Story 2 (1999)\n",
      "Antz (1998)\n",
      "Emperor's New Groove, The (2000)\n",
      "Adventures of Rocky and Bullwinkle, The (2000)\n",
      "Space Jam (1996)\n"
     ]
    }
   ],
   "source": [
    "top5 = result_list.map(lambda x: x[0])\n",
    "print(*top5.take(5), sep='\\n')"
   ]
  },
  {
   "cell_type": "markdown",
   "metadata": {},
   "source": [
    "As we can see the recommended movies are highly relevant to the given test movie, of the same type and period, while the user has not seen any of the listed movies."
   ]
  },
  {
   "cell_type": "code",
   "execution_count": 19,
   "metadata": {},
   "outputs": [
    {
     "data": {
      "text/plain": [
       "'Toy Story (1995)'"
      ]
     },
     "execution_count": 19,
     "metadata": {},
     "output_type": "execute_result"
    }
   ],
   "source": [
    "title"
   ]
  },
  {
   "cell_type": "code",
   "execution_count": null,
   "metadata": {},
   "outputs": [],
   "source": []
  }
 ],
 "metadata": {
  "kernelspec": {
   "display_name": "Python 3",
   "language": "python",
   "name": "python3"
  },
  "language_info": {
   "codemirror_mode": {
    "name": "ipython",
    "version": 3
   },
   "file_extension": ".py",
   "mimetype": "text/x-python",
   "name": "python",
   "nbconvert_exporter": "python",
   "pygments_lexer": "ipython3",
   "version": "3.6.5"
  }
 },
 "nbformat": 4,
 "nbformat_minor": 2
}
